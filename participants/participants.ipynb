{
 "cells": [
  {
   "cell_type": "markdown",
   "metadata": {},
   "source": [
    "### Samples of fetching participant data from EnergyDesk\n",
    "\n",
    "This first section loads a token from a local .env file "
   ]
  },
  {
   "cell_type": "code",
   "execution_count": 1,
   "metadata": {},
   "outputs": [
    {
     "name": "stdout",
     "output_type": "stream",
     "text": [
      "Using server  http://127.0.0.1:8001\n"
     ]
    }
   ],
   "source": [
    "# Import relevant libraries\n",
    "import sys,os\n",
    "from os.path import join, dirname\n",
    "from dotenv import load_dotenv\n",
    "\n",
    "sys.path.insert(1, os.path.join(sys.path[0], '..'))  # Hack to include parent directory in search path\n",
    "\n",
    "# Loading token, url etc from .env file in current directory\n",
    "load_dotenv('.env')\n",
    "token = os.environ.get(\"ENERGYDESK_TOKEN\")\n",
    "server_url = os.environ.get(\"ENERGYDESK_URL\")\n",
    "print(\"Using server \", server_url)"
   ]
  },
  {
   "cell_type": "markdown",
   "metadata": {},
   "source": [
    "### Initialize the Python SDK which wraps sme useful REST calls ###"
   ]
  },
  {
   "cell_type": "code",
   "execution_count": 2,
   "metadata": {},
   "outputs": [
    {
     "ename": "ModuleNotFoundError",
     "evalue": "No module named 'energydeskapi'",
     "output_type": "error",
     "traceback": [
      "\u001b[1;31m---------------------------------------------------------------------------\u001b[0m",
      "\u001b[1;31mModuleNotFoundError\u001b[0m                       Traceback (most recent call last)",
      "\u001b[1;32mc:\\Users\\57769\\PycharmProjects\\energydesk-jupyter\\participants\\participants.ipynb Cell 4'\u001b[0m in \u001b[0;36m<cell line: 1>\u001b[1;34m()\u001b[0m\n\u001b[1;32m----> <a href='vscode-notebook-cell:/c%3A/Users/57769/PycharmProjects/energydesk-jupyter/participants/participants.ipynb#ch0000007?line=0'>1</a>\u001b[0m \u001b[39mfrom\u001b[39;00m \u001b[39menergydeskapi\u001b[39;00m\u001b[39m.\u001b[39;00m\u001b[39msdk\u001b[39;00m\u001b[39m.\u001b[39;00m\u001b[39mcommon_utils\u001b[39;00m \u001b[39mimport\u001b[39;00m init_api\n",
      "\u001b[1;31mModuleNotFoundError\u001b[0m: No module named 'energydeskapi'"
     ]
    }
   ],
   "source": [
    "from energydeskapi.sdk.common_utils import init_api\n",
    "from energydeskapi.customers.customers_api import CustomersApi\n",
    "from energydeskapi.types.company_enum_types import CompanyTypeEnum, CompanyRoleEnum\n",
    "\n",
    "api_connection=init_api()\n",
    "param={\"page_size\":1000}   #Return full list in one shot\n",
    "json_companies=CustomersApi.get_companies(api_connection, param)"
   ]
  }
 ],
 "metadata": {
  "kernelspec": {
   "display_name": "Python 3.9.12 ('base')",
   "language": "python",
   "name": "python3"
  },
  "language_info": {
   "codemirror_mode": {
    "name": "ipython",
    "version": 3
   },
   "file_extension": ".py",
   "mimetype": "text/x-python",
   "name": "python",
   "nbconvert_exporter": "python",
   "pygments_lexer": "ipython3",
   "version": "3.9.12"
  },
  "orig_nbformat": 4,
  "vscode": {
   "interpreter": {
    "hash": "ad2bdc8ecc057115af97d19610ffacc2b4e99fae6737bb82f5d7fb13d2f2c186"
   }
  }
 },
 "nbformat": 4,
 "nbformat_minor": 2
}
