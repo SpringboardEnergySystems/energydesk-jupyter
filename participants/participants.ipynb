{
 "cells": [
  {
   "cell_type": "markdown",
   "metadata": {},
   "source": [
    "### Samples of fetching participant data from EnergyDesk\n",
    "\n",
    "This first section loads a token from a local .env file "
   ]
  },
  {
   "cell_type": "code",
   "execution_count": 1,
   "metadata": {},
   "outputs": [
    {
     "name": "stdout",
     "output_type": "stream",
     "text": [
      "Using server  https://demo-api.energydesk.no\n"
     ]
    }
   ],
   "source": [
    "# Import relevant libraries\n",
    "import sys,os\n",
    "from os.path import join, dirname\n",
    "from dotenv import load_dotenv\n",
    "\n",
    "sys.path.insert(1, os.path.join(sys.path[0], '..'))  # Hack to include parent directory in search path\n",
    "\n",
    "# Loading token, url etc from .env file in current directory\n",
    "load_dotenv('.env')\n",
    "token = os.environ.get(\"ENERGYDESK_TOKEN\")\n",
    "server_url = os.environ.get(\"ENERGYDESK_URL\")\n",
    "print(\"Using server \", server_url)"
   ]
  },
  {
   "cell_type": "markdown",
   "metadata": {},
   "source": [
    "### Initialize the Python SDK which wraps sme useful REST calls ###"
   ]
  },
  {
   "cell_type": "code",
   "execution_count": 23,
   "metadata": {},
   "outputs": [
    {
     "name": "stdout",
     "output_type": "stream",
     "text": [
      "Index(['pk', 'name', 'registry_number', 'lei_code', 'alias', 'address',\n",
      "       'postal_code', 'city', 'country', 'location', 'subscription',\n",
      "       'company_roles', 'company_type', 'is_active'],\n",
      "      dtype='object')\n",
      "                          name registry_number\n",
      "0           Bahb Properties AS       923836616\n",
      "1                Aeki Group AS       927050005\n",
      "2         Arna Kraftselskap AS       910267299\n",
      "3         Agder Energi Nett AS       982974011\n",
      "4    Agder Energi Vannkraft AS       882973972\n",
      "..                         ...             ...\n",
      "718                        DNB       984851006\n",
      "719                     Nordea       990323429\n",
      "720                   ABN AMRO       995550164\n",
      "721     Legoland Super Traders          222222\n",
      "722  Legoland Windmill Company          333333\n",
      "\n",
      "[723 rows x 2 columns]\n"
     ]
    }
   ],
   "source": [
    "from energydeskapi.sdk.common_utils import init_api\n",
    "from energydeskapi.customers.customers_api import CustomersApi\n",
    "from energydeskapi.customers.users_api import UsersApi\n",
    "from energydeskapi.types.company_enum_types import CompanyTypeEnum, CompanyRoleEnum\n",
    "import pandas as pd\n",
    "import pprint\n",
    "\n",
    "api_connection=init_api()\n",
    "param={\"page\": 1, \n",
    "\"page_size\":1000}   #Return full list in one shot\n",
    "json_res=CustomersApi.get_companies(api_connection, param)\n",
    "df = pd.DataFrame(data=json_res[\"results\"])\n",
    "print(df.columns)\n",
    "print(df[[\"name\", \"registry_number\"]])"
   ]
  }
 ],
 "metadata": {
  "kernelspec": {
   "display_name": "Python 3.9.13 ('pygdal39')",
   "language": "python",
   "name": "python3"
  },
  "language_info": {
   "codemirror_mode": {
    "name": "ipython",
    "version": 3
   },
   "file_extension": ".py",
   "mimetype": "text/x-python",
   "name": "python",
   "nbconvert_exporter": "python",
   "pygments_lexer": "ipython3",
   "version": "3.9.13"
  },
  "orig_nbformat": 4,
  "vscode": {
   "interpreter": {
    "hash": "3155dc5b9bfdd26825f64ac297e77a1f9da587ae8523eb1d1ab468b7e9829205"
   }
  }
 },
 "nbformat": 4,
 "nbformat_minor": 2
}
