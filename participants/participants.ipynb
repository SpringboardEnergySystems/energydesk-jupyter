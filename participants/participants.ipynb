{
 "cells": [
  {
   "cell_type": "markdown",
   "metadata": {},
   "source": [
    "### Samples of fetching participant data from EnergyDesk\n",
    "\n",
    "This first section loads a token from a local .env file "
   ]
  },
  {
   "cell_type": "code",
   "execution_count": 16,
   "metadata": {},
   "outputs": [
    {
     "name": "stdout",
     "output_type": "stream",
     "text": [
      "Using server  https://demo-api-2.energydesk.no\n"
     ]
    }
   ],
   "source": [
    "# Import relevant libraries\n",
    "import sys,os\n",
    "from os.path import join, dirname\n",
    "from dotenv import load_dotenv\n",
    "\n",
    "sys.path.insert(1, os.path.join(sys.path[0], '..'))  # Hack to include parent directory in search path\n",
    "\n",
    "# Loading token, url etc from .env file in current directory\n",
    "load_dotenv('.env')\n",
    "token = os.environ.get(\"ENERGYDESK_TOKEN\")\n",
    "server_url = os.environ.get(\"ENERGYDESK_URL\")\n",
    "print(\"Using server \", server_url)"
   ]
  },
  {
   "cell_type": "markdown",
   "metadata": {},
   "source": [
    "### Initialize the Python SDK which wraps sme useful REST calls ###"
   ]
  },
  {
   "cell_type": "code",
   "execution_count": 17,
   "metadata": {},
   "outputs": [
    {
     "name": "stdout",
     "output_type": "stream",
     "text": [
      "Index(['pk', 'name', 'registry_number', 'lei_code', 'alias', 'address',\n",
      "       'postal_code', 'city', 'country', 'location', 'subscription',\n",
      "       'company_roles', 'company_type', 'is_active'],\n",
      "      dtype='object')\n",
      "                          name registry_number\n",
      "0           Bahb Properties AS       923836616\n",
      "1                Aeki Group AS       927050005\n",
      "2         Arna Kraftselskap AS       910267299\n",
      "3         Agder Energi Nett AS       982974011\n",
      "4    Agder Energi Vannkraft AS       882973972\n",
      "..                         ...             ...\n",
      "719                     Nordea       990323429\n",
      "720                   ABN AMRO       995550164\n",
      "721     Legoland Super Traders          222222\n",
      "722  Legoland Windmill Company          333333\n",
      "723                  Alf Firma       926394592\n",
      "\n",
      "[724 rows x 2 columns]\n"
     ]
    }
   ],
   "source": [
    "from energydeskapi.sdk.common_utils import init_api\n",
    "from energydeskapi.customers.customers_api import CustomersApi\n",
    "from energydeskapi.customers.users_api import UsersApi\n",
    "from energydeskapi.types.company_enum_types import CompanyTypeEnum, CompanyRoleEnum\n",
    "import pandas as pd\n",
    "\n",
    "api_connection=init_api()\n",
    "param={\"page\": 1, \n",
    "\"page_size\":1000}   #Return full list in one shot\n",
    "json_res=CustomersApi.get_companies(api_connection, param)\n",
    "df = pd.DataFrame(data=json_res[\"results\"])\n",
    "print(df.columns)\n",
    "print(df[[\"name\", \"registry_number\"]])"
   ]
  },
  {
   "cell_type": "code",
   "execution_count": 18,
   "metadata": {},
   "outputs": [
    {
     "name": "stdout",
     "output_type": "stream",
     "text": [
      "Index(['pk', 'asset_id', 'extern_asset_id', 'description', 'asset_type',\n",
      "       'grid_connection', 'power_supplier', 'asset_owner', 'asset_manager',\n",
      "       'meter_id', 'sub_meter_id', 'vendor', 'is_active', 'price_area',\n",
      "       'location'],\n",
      "      dtype='object')\n",
      "       extern_asset_id       asset_type                asset_owner\n",
      "0           Windmill 1       Wind Power  Legoland Windmill Company\n",
      "1           Windmill 2       Wind Power  Legoland Windmill Company\n",
      "2           Windmill 3       Wind Power  Legoland Windmill Company\n",
      "3           Windmill 4       Wind Power  Legoland Windmill Company\n",
      "4           Windmill 5       Wind Power  Legoland Windmill Company\n",
      "5           Windmill 6       Wind Power  Legoland Windmill Company\n",
      "6           Windmill 7       Wind Power  Legoland Windmill Company\n",
      "7           Windmill 8       Wind Power  Legoland Windmill Company\n",
      "8           Windmill 9       Wind Power  Legoland Windmill Company\n",
      "9          Windmill 10       Wind Power  Legoland Windmill Company\n",
      "10     LEGO FX ACCOUNT  Trading Account     Legoland Super Traders\n",
      "11  LEGO GREEN ACCOUNT  Trading Account     Legoland Super Traders\n",
      "12       NC LEGO HOUSE  Trading Account     Legoland Super Traders\n",
      "13          NC LEGO DA  Trading Account     Legoland Super Traders\n",
      "14         NC LECO TIP  Trading Account     Legoland Super Traders\n"
     ]
    }
   ],
   "source": [
    "from energydeskapi.sdk.common_utils import init_api\n",
    "from energydeskapi.assets.assets_api import AssetsApi\n",
    "from energydeskapi.types.company_enum_types import CompanyTypeEnum, CompanyRoleEnum\n",
    "import pandas as pd\n",
    "\n",
    "api_connection=init_api()\n",
    "param={\"is_active\": 1,\n",
    "\"page\": 1, \n",
    "\"page_size\":1000}   #Return full list in one shot\n",
    "json_res=AssetsApi.get_assets(api_connection, param)\n",
    "df = pd.DataFrame(data=json_res[\"results\"])\n",
    "print(df.columns)\n",
    "print(df[[\"extern_asset_id\", \"asset_type\", \"asset_owner\"]])"
   ]
  },
  {
   "cell_type": "code",
   "execution_count": 22,
   "metadata": {},
   "outputs": [
    {
     "name": "stdout",
     "output_type": "stream",
     "text": [
      "Index(['pk', 'user', 'user_role', 'company', 'registry_number', 'language'], dtype='object')\n",
      "                            user                    company\n",
      "0          s.r.eriksen@gmail.com  Hafslund Eco Vannkraft AS\n",
      "1    warrenbuffet@legotrades.com     Legoland Super Traders\n",
      "2      nickleeson@legotrades.com     Legoland Super Traders\n",
      "3  steinar.springboard@gmail.com     Legoland Super Traders\n",
      "4           morteb1507@gmail.com     Legoland Super Traders\n",
      "5       alfmartinolsen@gmail.com     Legoland Super Traders\n",
      "6            vnbenny88@gmail.com     Legoland Super Traders\n"
     ]
    }
   ],
   "source": [
    "from energydeskapi.sdk.common_utils import init_api\n",
    "from energydeskapi.customers.customers_api import CustomersApi\n",
    "from energydeskapi.customers.users_api import UsersApi\n",
    "from energydeskapi.types.company_enum_types import CompanyTypeEnum, CompanyRoleEnum\n",
    "import pandas as pd\n",
    "\n",
    "api_connection=init_api()\n",
    "param={\"page\": 1, \n",
    "\"page_size\":1000}   #Return full list in one shot\n",
    "json_res=UsersApi.get_users(api_connection, param)\n",
    "df = pd.DataFrame(data=json_res[\"results\"])\n",
    "print(df.columns)\n",
    "print(df[[\"user\", \"company\"]])"
   ]
  },
  {
   "cell_type": "code",
   "execution_count": 20,
   "metadata": {},
   "outputs": [
    {
     "name": "stdout",
     "output_type": "stream",
     "text": [
      "Index(['pk', 'description', 'asset', 'manager', 'stakeholders',\n",
      "       'commodity_types', 'contract_types', 'traders'],\n",
      "      dtype='object')\n",
      "    description                 manager\n",
      "0   Trader Nick  Legoland Super Traders\n",
      "1  Lego Hedging  Legoland Super Traders\n",
      "2  Green Book 1  Legoland Super Traders\n",
      "3  Green Book 2  Legoland Super Traders\n"
     ]
    }
   ],
   "source": [
    "from energydeskapi.sdk.common_utils import init_api\n",
    "from energydeskapi.portfolios.tradingbooks_api import TradingBooksApi\n",
    "from energydeskapi.types.company_enum_types import CompanyTypeEnum, CompanyRoleEnum\n",
    "import pandas as pd\n",
    "\n",
    "api_connection=init_api()\n",
    "param={\"page\": 1, \n",
    "\"page_size\":1000}   #Return full list in one shot\n",
    "json_res=TradingBooksApi.get_tradingbooks(api_connection, param)\n",
    "df = pd.DataFrame(data=json_res[\"results\"])\n",
    "print(df.columns)\n",
    "print(df[[\"description\", \"manager\"]])"
   ]
  }
 ],
 "metadata": {
  "kernelspec": {
   "display_name": "Python 3.9.13 ('pygdal39')",
   "language": "python",
   "name": "python3"
  },
  "language_info": {
   "codemirror_mode": {
    "name": "ipython",
    "version": 3
   },
   "file_extension": ".py",
   "mimetype": "text/x-python",
   "name": "python",
   "nbconvert_exporter": "python",
   "pygments_lexer": "ipython3",
   "version": "3.9.13"
  },
  "orig_nbformat": 4,
  "vscode": {
   "interpreter": {
    "hash": "3155dc5b9bfdd26825f64ac297e77a1f9da587ae8523eb1d1ab468b7e9829205"
   }
  }
 },
 "nbformat": 4,
 "nbformat_minor": 2
}
