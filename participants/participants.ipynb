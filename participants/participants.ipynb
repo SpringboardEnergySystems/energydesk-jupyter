{
 "cells": [
  {
   "cell_type": "markdown",
   "metadata": {},
   "source": [
    "### Samples of fetching participant data from EnergyDesk\n",
    "\n",
    "This first section loads a token from a local .env file "
   ]
  },
  {
   "cell_type": "code",
   "execution_count": 21,
   "metadata": {},
   "outputs": [
    {
     "name": "stdout",
     "output_type": "stream",
     "text": [
      "Using server  http://127.0.0.1:8001\n"
     ]
    }
   ],
   "source": [
    "# Import relevant libraries\n",
    "import sys,os\n",
    "from os.path import join, dirname\n",
    "from dotenv import load_dotenv\n",
    "\n",
    "sys.path.insert(1, os.path.join(sys.path[0], '..'))  # Hack to include parent directory in search path\n",
    "\n",
    "# Loading token, url etc from .env file in current directory\n",
    "load_dotenv('.env')\n",
    "token = os.environ.get(\"ENERGYDESK_TOKEN\")\n",
    "server_url = os.environ.get(\"ENERGYDESK_URL\")\n",
    "print(\"Using server \", server_url)"
   ]
  },
  {
   "cell_type": "markdown",
   "metadata": {},
   "source": [
    "### Initialize the Python SDK which wraps sme useful REST calls ###"
   ]
  },
  {
   "cell_type": "code",
   "execution_count": 1,
   "metadata": {},
   "outputs": [
    {
     "name": "stdout",
     "output_type": "stream",
     "text": [
      "Not setting token   Token\n",
      "Token setting token  d2b72952fb341d08b1eee1a1aada79c1a6971fa1 Token\n",
      "Index(['pk', 'name', 'alias', 'lei_code', 'registry_number', 'company_type',\n",
      "       'address', 'postal_code', 'city', 'country', 'location', 'is_active'],\n",
      "      dtype='object')\n",
      "                              name registry_number\n",
      "0                    Aeki Group AS       927050005\n",
      "1             Agder Energi Nett AS       982974011\n",
      "2        Agder Energi Vannkraft AS       882973972\n",
      "3              Agder Fylkeskommune       921707134\n",
      "4                    Agva Kraft AS       914902371\n",
      "..                             ...             ...\n",
      "717                            DNB       984851006\n",
      "718                         Nordea       990323429\n",
      "719                       ABN AMRO       995550164\n",
      "720  Springboard Energy Systems AS       925971855\n",
      "721                      Fortum Oy       920723683\n",
      "\n",
      "[722 rows x 2 columns]\n"
     ]
    }
   ],
   "source": [
    "from energydeskapi.sdk.common_utils import init_api,init_api_from_environment\n",
    "from energydeskapi.customers.customers_api import CustomersApi\n",
    "from energydeskapi.customers.users_api import UsersApi\n",
    "from energydeskapi.types.company_enum_types import CompanyTypeEnum, CompanyRoleEnum\n",
    "import pandas as pd\n",
    "api_connection=init_api_from_environment()\n",
    "param={\"page\": 1, \n",
    "\"page_size\":1000}   #Return full list in one shot\n",
    "json_res=CustomersApi.get_companies(api_connection, param)\n",
    "df = pd.DataFrame(data=json_res[\"results\"])\n",
    "print(df.columns)\n",
    "print(df[[\"name\", \"registry_number\"]])"
   ]
  },
  {
   "cell_type": "code",
   "execution_count": 17,
   "metadata": {},
   "outputs": [
    {
     "name": "stdout",
     "output_type": "stream",
     "text": [
      "Not setting token   Token\n",
      "Token setting token  d2b72952fb341d08b1eee1a1aada79c1a6971fa1 Token\n",
      "{'count': 1, 'next': None, 'previous': None, 'results': [{'pk': 24, 'asset_id': '57118977-e81b-4963-b235-b2ec182caa38', 'extern_asset_id': 'B2C', 'description': 'B2C', 'asset_category': 'http://127.0.0.1:8001/api/assets/assetcategories/6/', 'asset_type': 'http://127.0.0.1:8001/api/assets/assettypes/13/', 'asset_technical_data': {'pk': 24, 'max_effect_mw': None, 'yearly_volume_mwh': None, 'elcert_support_percentage': None, 'licenced_until': None, 'startup_date': None}, 'grid_connection': None, 'power_supplier': None, 'asset_owner': 'http://127.0.0.1:8001/api/customers/companies/197/', 'asset_manager': 'http://127.0.0.1:8001/api/customers/companies/197/', 'meter_id': '', 'sub_meter_id': '', 'vendor': None, 'is_active': True, 'address': 'Unknown', 'city': 'Unknown', 'price_area': 'NO1', 'location': '59.840718052900364, 10.83646291534139'}]}\n"
     ]
    },
    {
     "ename": "KeyError",
     "evalue": "\"None of [Index(['netpos'], dtype='object')] are in the [columns]\"",
     "output_type": "error",
     "traceback": [
      "\u001b[0;31m---------------------------------------------------------------------------\u001b[0m",
      "\u001b[0;31mKeyError\u001b[0m                                  Traceback (most recent call last)",
      "Cell \u001b[0;32mIn[17], line 20\u001b[0m\n\u001b[1;32m     13\u001b[0m params\u001b[39m=\u001b[39m{\n\u001b[1;32m     14\u001b[0m       \u001b[39m'\u001b[39m\u001b[39masset__id\u001b[39m\u001b[39m'\u001b[39m:assets[\u001b[39m'\u001b[39m\u001b[39mresults\u001b[39m\u001b[39m'\u001b[39m][\u001b[39m0\u001b[39m][\u001b[39m'\u001b[39m\u001b[39mpk\u001b[39m\u001b[39m'\u001b[39m],\n\u001b[1;32m     15\u001b[0m       \u001b[39m'\u001b[39m\u001b[39mtime_series_type__id\u001b[39m\u001b[39m'\u001b[39m:TimeSeriesTypesEnum\u001b[39m.\u001b[39mFORECASTS\u001b[39m.\u001b[39mvalue,\n\u001b[1;32m     16\u001b[0m       \u001b[39m'\u001b[39m\u001b[39mresolution\u001b[39m\u001b[39m'\u001b[39m: PeriodResolutionEnum\u001b[39m.\u001b[39mMONTHLY\u001b[39m.\u001b[39mvalue\n\u001b[1;32m     17\u001b[0m }\n\u001b[1;32m     19\u001b[0m df\u001b[39m=\u001b[39mAssetDataApi\u001b[39m.\u001b[39mget_assetgroup_forecast_df(api_connection, [assets[\u001b[39m'\u001b[39m\u001b[39mresults\u001b[39m\u001b[39m'\u001b[39m][\u001b[39m0\u001b[39m][\u001b[39m'\u001b[39m\u001b[39mpk\u001b[39m\u001b[39m'\u001b[39m]], PeriodResolutionEnum\u001b[39m.\u001b[39mMONTHLY)\n\u001b[0;32m---> 20\u001b[0m df\u001b[39m=\u001b[39mdf[[\u001b[39m'\u001b[39;49m\u001b[39mnetpos\u001b[39;49m\u001b[39m'\u001b[39;49m]]\n\u001b[1;32m     21\u001b[0m \u001b[39mprint\u001b[39m(df)\n\u001b[1;32m     22\u001b[0m df\u001b[39m=\u001b[39mdf\u001b[39m.\u001b[39mtranspose()\n",
      "File \u001b[0;32m/opt/homebrew/lib/python3.10/site-packages/pandas/core/frame.py:3813\u001b[0m, in \u001b[0;36mDataFrame.__getitem__\u001b[0;34m(self, key)\u001b[0m\n\u001b[1;32m   3811\u001b[0m     \u001b[39mif\u001b[39;00m is_iterator(key):\n\u001b[1;32m   3812\u001b[0m         key \u001b[39m=\u001b[39m \u001b[39mlist\u001b[39m(key)\n\u001b[0;32m-> 3813\u001b[0m     indexer \u001b[39m=\u001b[39m \u001b[39mself\u001b[39;49m\u001b[39m.\u001b[39;49mcolumns\u001b[39m.\u001b[39;49m_get_indexer_strict(key, \u001b[39m\"\u001b[39;49m\u001b[39mcolumns\u001b[39;49m\u001b[39m\"\u001b[39;49m)[\u001b[39m1\u001b[39m]\n\u001b[1;32m   3815\u001b[0m \u001b[39m# take() does not accept boolean indexers\u001b[39;00m\n\u001b[1;32m   3816\u001b[0m \u001b[39mif\u001b[39;00m \u001b[39mgetattr\u001b[39m(indexer, \u001b[39m\"\u001b[39m\u001b[39mdtype\u001b[39m\u001b[39m\"\u001b[39m, \u001b[39mNone\u001b[39;00m) \u001b[39m==\u001b[39m \u001b[39mbool\u001b[39m:\n",
      "File \u001b[0;32m/opt/homebrew/lib/python3.10/site-packages/pandas/core/indexes/base.py:6070\u001b[0m, in \u001b[0;36mIndex._get_indexer_strict\u001b[0;34m(self, key, axis_name)\u001b[0m\n\u001b[1;32m   6067\u001b[0m \u001b[39melse\u001b[39;00m:\n\u001b[1;32m   6068\u001b[0m     keyarr, indexer, new_indexer \u001b[39m=\u001b[39m \u001b[39mself\u001b[39m\u001b[39m.\u001b[39m_reindex_non_unique(keyarr)\n\u001b[0;32m-> 6070\u001b[0m \u001b[39mself\u001b[39;49m\u001b[39m.\u001b[39;49m_raise_if_missing(keyarr, indexer, axis_name)\n\u001b[1;32m   6072\u001b[0m keyarr \u001b[39m=\u001b[39m \u001b[39mself\u001b[39m\u001b[39m.\u001b[39mtake(indexer)\n\u001b[1;32m   6073\u001b[0m \u001b[39mif\u001b[39;00m \u001b[39misinstance\u001b[39m(key, Index):\n\u001b[1;32m   6074\u001b[0m     \u001b[39m# GH 42790 - Preserve name from an Index\u001b[39;00m\n",
      "File \u001b[0;32m/opt/homebrew/lib/python3.10/site-packages/pandas/core/indexes/base.py:6130\u001b[0m, in \u001b[0;36mIndex._raise_if_missing\u001b[0;34m(self, key, indexer, axis_name)\u001b[0m\n\u001b[1;32m   6128\u001b[0m     \u001b[39mif\u001b[39;00m use_interval_msg:\n\u001b[1;32m   6129\u001b[0m         key \u001b[39m=\u001b[39m \u001b[39mlist\u001b[39m(key)\n\u001b[0;32m-> 6130\u001b[0m     \u001b[39mraise\u001b[39;00m \u001b[39mKeyError\u001b[39;00m(\u001b[39mf\u001b[39m\u001b[39m\"\u001b[39m\u001b[39mNone of [\u001b[39m\u001b[39m{\u001b[39;00mkey\u001b[39m}\u001b[39;00m\u001b[39m] are in the [\u001b[39m\u001b[39m{\u001b[39;00maxis_name\u001b[39m}\u001b[39;00m\u001b[39m]\u001b[39m\u001b[39m\"\u001b[39m)\n\u001b[1;32m   6132\u001b[0m not_found \u001b[39m=\u001b[39m \u001b[39mlist\u001b[39m(ensure_index(key)[missing_mask\u001b[39m.\u001b[39mnonzero()[\u001b[39m0\u001b[39m]]\u001b[39m.\u001b[39munique())\n\u001b[1;32m   6133\u001b[0m \u001b[39mraise\u001b[39;00m \u001b[39mKeyError\u001b[39;00m(\u001b[39mf\u001b[39m\u001b[39m\"\u001b[39m\u001b[39m{\u001b[39;00mnot_found\u001b[39m}\u001b[39;00m\u001b[39m not in index\u001b[39m\u001b[39m\"\u001b[39m)\n",
      "\u001b[0;31mKeyError\u001b[0m: \"None of [Index(['netpos'], dtype='object')] are in the [columns]\""
     ]
    }
   ],
   "source": [
    "from energydeskapi.sdk.common_utils import init_api\n",
    "from energydeskapi.assets.assets_api import AssetsApi\n",
    "from energydeskapi.types.company_enum_types import CompanyTypeEnum, CompanyRoleEnum\n",
    "import pandas as pd\n",
    "from energydeskapi.types.asset_enum_types import TimeSeriesTypesEnum\n",
    "from energydeskapi.types.common_enum_types import PeriodResolutionEnum\n",
    "from energydeskapi.assetdata.assetdata_api import AssetDataApi, TimeSeriesAdjustments, TimeSeriesAdjustment\n",
    "from energydeskapi.types.asset_enum_types import AssetForecastAdjustEnum, AssetForecastAdjustDenomEnum\n",
    "\n",
    "api_connection=init_api()\n",
    "assets=AssetsApi.get_assets(api_connection, {\"description\":\"B2C\"})\n",
    "print(assets)\n",
    "params={\n",
    "      'asset__id':assets['results'][0]['pk'],\n",
    "      'time_series_type__id':TimeSeriesTypesEnum.FORECASTS.value,\n",
    "      'resolution': PeriodResolutionEnum.MONTHLY.value\n",
    "}\n",
    "\n",
    "df=AssetDataApi.get_assetgroup_forecast_df(api_connection, [assets['results'][0]['pk']], PeriodResolutionEnum.MONTHLY)\n",
    "df=df[['netpos']]\n",
    "print(df)\n",
    "df=df.transpose()\n",
    "print(df)\n",
    "print(df.plot())"
   ]
  },
  {
   "cell_type": "code",
   "execution_count": 4,
   "metadata": {},
   "outputs": [
    {
     "name": "stdout",
     "output_type": "stream",
     "text": [
      "Not setting token   Token\n",
      "Token setting token  d2b72952fb341d08b1eee1a1aada79c1a6971fa1 Token\n",
      "Index(['pk', 'company', 'user', 'user_role', 'language'], dtype='object')\n",
      "                                           user  \\\n",
      "0  http://127.0.0.1:8001/api/customers/users/1/   \n",
      "1  http://127.0.0.1:8001/api/customers/users/3/   \n",
      "2  http://127.0.0.1:8001/api/customers/users/4/   \n",
      "3  http://127.0.0.1:8001/api/customers/users/5/   \n",
      "4  http://127.0.0.1:8001/api/customers/users/6/   \n",
      "5  http://127.0.0.1:8001/api/customers/users/7/   \n",
      "6  http://127.0.0.1:8001/api/customers/users/8/   \n",
      "7  http://127.0.0.1:8001/api/customers/users/9/   \n",
      "\n",
      "                                             company  \n",
      "0  http://127.0.0.1:8001/api/customers/companies/...  \n",
      "1  http://127.0.0.1:8001/api/customers/companies/...  \n",
      "2  http://127.0.0.1:8001/api/customers/companies/...  \n",
      "3  http://127.0.0.1:8001/api/customers/companies/...  \n",
      "4  http://127.0.0.1:8001/api/customers/companies/...  \n",
      "5  http://127.0.0.1:8001/api/customers/companies/...  \n",
      "6  http://127.0.0.1:8001/api/customers/companies/...  \n",
      "7  http://127.0.0.1:8001/api/customers/companies/...  \n"
     ]
    }
   ],
   "source": [
    "from energydeskapi.sdk.common_utils import init_api\n",
    "from energydeskapi.customers.customers_api import CustomersApi\n",
    "from energydeskapi.customers.users_api import UsersApi\n",
    "from energydeskapi.types.company_enum_types import CompanyTypeEnum, CompanyRoleEnum\n",
    "import pandas as pd\n",
    "\n",
    "api_connection=init_api()\n",
    "param={\"page\": 1, \n",
    "\"page_size\":1000}   #Return full list in one shot\n",
    "json_res=UsersApi.get_users(api_connection, param)\n",
    "df = pd.DataFrame(data=json_res[\"results\"])\n",
    "print(df.columns)\n",
    "print(df[[\"user\", \"company\"]])"
   ]
  },
  {
   "cell_type": "code",
   "execution_count": 5,
   "metadata": {},
   "outputs": [
    {
     "name": "stdout",
     "output_type": "stream",
     "text": [
      "Not setting token   Token\n",
      "Token setting token  866acd8205e5ddce9c9e8738cf18dfa029a813d0 Token\n",
      "Index(['pk', 'description', 'asset', 'manager', 'commodity_types', 'traders'], dtype='object')\n",
      "                       description  \\\n",
      "0                         Trad_1 B   \n",
      "1                         Trad_1 C   \n",
      "2                         Trad_1 A   \n",
      "3                         Trad_1 D   \n",
      "4                         Trad_2 B   \n",
      "5                         Trad_2 C   \n",
      "6                         Trad_2 A   \n",
      "7                         Trad_3 A   \n",
      "8           E-CO Vannkraft_Hedging   \n",
      "9         E-CO Vannkraft_Hedging 2   \n",
      "10          E-CO Vannkraft_Trading   \n",
      "11                             CO2   \n",
      "12                     GoO intenal   \n",
      "13                      GoO Kinect   \n",
      "14                      FX Sikring   \n",
      "15                      Europeiske   \n",
      "16                      HP MtM CO2   \n",
      "17               HP MtM Europeiske   \n",
      "18                  HP MtM Nordisk   \n",
      "19               HP Sikring Nasdaq   \n",
      "20      E-CO Vannkraft_TyskHedging   \n",
      "21     E-CO Vannkraft_Hedging_HECO   \n",
      "22  E-CO Vannkraft_Hedging_HECOSEC   \n",
      "23    HEV_Celsio_Market_Systematic   \n",
      "24         HEV_Celsio_Market_Adhoc   \n",
      "25                    Celsio_Adhoc   \n",
      "26               Celsio_Systematic   \n",
      "27                 Celsio_Tactical   \n",
      "28           Bilateral Fixed Price   \n",
      "29              Bilateral Industry   \n",
      "\n",
      "                                              manager  \n",
      "0   http://127.0.0.1:8001/api/customers/companies/...  \n",
      "1   http://127.0.0.1:8001/api/customers/companies/...  \n",
      "2   http://127.0.0.1:8001/api/customers/companies/...  \n",
      "3   http://127.0.0.1:8001/api/customers/companies/...  \n",
      "4   http://127.0.0.1:8001/api/customers/companies/...  \n",
      "5   http://127.0.0.1:8001/api/customers/companies/...  \n",
      "6   http://127.0.0.1:8001/api/customers/companies/...  \n",
      "7   http://127.0.0.1:8001/api/customers/companies/...  \n",
      "8   http://127.0.0.1:8001/api/customers/companies/...  \n",
      "9   http://127.0.0.1:8001/api/customers/companies/...  \n",
      "10  http://127.0.0.1:8001/api/customers/companies/...  \n",
      "11  http://127.0.0.1:8001/api/customers/companies/...  \n",
      "12  http://127.0.0.1:8001/api/customers/companies/...  \n",
      "13  http://127.0.0.1:8001/api/customers/companies/...  \n",
      "14  http://127.0.0.1:8001/api/customers/companies/...  \n",
      "15  http://127.0.0.1:8001/api/customers/companies/...  \n",
      "16  http://127.0.0.1:8001/api/customers/companies/...  \n",
      "17  http://127.0.0.1:8001/api/customers/companies/...  \n",
      "18  http://127.0.0.1:8001/api/customers/companies/...  \n",
      "19  http://127.0.0.1:8001/api/customers/companies/...  \n",
      "20  http://127.0.0.1:8001/api/customers/companies/...  \n",
      "21  http://127.0.0.1:8001/api/customers/companies/...  \n",
      "22  http://127.0.0.1:8001/api/customers/companies/...  \n",
      "23  http://127.0.0.1:8001/api/customers/companies/...  \n",
      "24  http://127.0.0.1:8001/api/customers/companies/...  \n",
      "25  http://127.0.0.1:8001/api/customers/companies/...  \n",
      "26  http://127.0.0.1:8001/api/customers/companies/...  \n",
      "27  http://127.0.0.1:8001/api/customers/companies/...  \n",
      "28  http://127.0.0.1:8001/api/customers/companies/...  \n",
      "29  http://127.0.0.1:8001/api/customers/companies/...  \n"
     ]
    }
   ],
   "source": [
    "from energydeskapi.sdk.common_utils import init_api\n",
    "from energydeskapi.portfolios.tradingbooks_api import TradingBooksApi\n",
    "from energydeskapi.types.company_enum_types import CompanyTypeEnum, CompanyRoleEnum\n",
    "import pandas as pd\n",
    "\n",
    "api_connection=init_api()\n",
    "param={\"page\": 1, \n",
    "\"page_size\":1000}   #Return full list in one shot\n",
    "json_res=TradingBooksApi.get_tradingbooks(api_connection, param)\n",
    "df = pd.DataFrame(data=json_res[\"results\"])\n",
    "print(df.columns)\n",
    "print(df[[\"description\", \"manager\"]])"
   ]
  }
 ],
 "metadata": {
  "kernelspec": {
   "display_name": "Python 3.9.13 ('pygdal39')",
   "language": "python",
   "name": "python3"
  },
  "language_info": {
   "codemirror_mode": {
    "name": "ipython",
    "version": 3
   },
   "file_extension": ".py",
   "mimetype": "text/x-python",
   "name": "python",
   "nbconvert_exporter": "python",
   "pygments_lexer": "ipython3",
   "version": "3.10.11"
  },
  "orig_nbformat": 4,
  "vscode": {
   "interpreter": {
    "hash": "3155dc5b9bfdd26825f64ac297e77a1f9da587ae8523eb1d1ab468b7e9829205"
   }
  }
 },
 "nbformat": 4,
 "nbformat_minor": 2
}
