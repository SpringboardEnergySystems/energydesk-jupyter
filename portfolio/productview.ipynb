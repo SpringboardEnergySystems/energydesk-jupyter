{
 "cells": [
  {
   "attachments": {},
   "cell_type": "markdown",
   "metadata": {},
   "source": [
    "### Samples of fetching Product View with Mark2Market\n",
    "\n",
    "This first section loads a token from a local .env file "
   ]
  },
  {
   "cell_type": "code",
   "execution_count": 1,
   "metadata": {},
   "outputs": [
    {
     "name": "stdout",
     "output_type": "stream",
     "text": [
      "Using server  https://api.celsio.energydesk.no\n"
     ]
    }
   ],
   "source": [
    "# Import relevant libraries\n",
    "import sys,os\n",
    "from os.path import join, dirname\n",
    "from dotenv import load_dotenv\n",
    "\n",
    "sys.path.insert(1, os.path.join(sys.path[0], '..'))  # Hack to include parent directory in search path\n",
    "\n",
    "# Loading token, url etc from .env file in current directory\n",
    "load_dotenv('.env')\n",
    "token = os.environ.get(\"ENERGYDESK_TOKEN\")\n",
    "server_url = os.environ.get(\"ENERGYDESK_URL\")\n",
    "print(\"Using server \", server_url)"
   ]
  },
  {
   "cell_type": "markdown",
   "metadata": {},
   "source": [
    "### Initialize the Python SDK which wraps sme useful REST calls ###"
   ]
  },
  {
   "cell_type": "code",
   "execution_count": 2,
   "metadata": {},
   "outputs": [
    {
     "name": "stdout",
     "output_type": "stream",
     "text": [
      "Not setting token   Token\n",
      "Token setting token  d2b72952fb341d08b1eee1a1aada79c1a6971fa1 Token\n",
      "d2b72952fb341d08b1eee1a1aada79c1a6971fa1\n",
      "   pk               description\n",
      "0   1        Systematic Sikring\n",
      "1   2             Adhoc Sikring\n",
      "2   3                   Sikring\n",
      "3   4         Elektrisk Forbruk\n",
      "4   5  Brensler Varmeproduksjon\n",
      "5   6                 Varmesalg\n",
      "6   7   Salg av Produsert kraft\n",
      "7   8                   Forbruk\n",
      "8   9                      Salg\n",
      "9  10              Celsio Total\n"
     ]
    }
   ],
   "source": [
    "from energydeskapi.sdk.common_utils import init_api_from_environment\n",
    "from energydeskapi.customers.customers_api import CustomersApi\n",
    "from energydeskapi.customers.users_api import UsersApi\n",
    "from energydeskapi.portfolios.portfoliotree_api import PortfolioTreeApi, PortfoliosApi\n",
    "from energydeskapi.types.company_enum_types import CompanyTypeEnum, CompanyRoleEnum\n",
    "import pandas as pd\n",
    "import json\n",
    "api_connection=init_api_from_environment()\n",
    "print(api_connection.token)\n",
    "jsdata=PortfoliosApi.get_portfolios_embedded(api_connection)\n",
    "df=pd.DataFrame(data=jsdata)\n",
    "print(df[['pk', 'description']])\n"
   ]
  },
  {
   "attachments": {},
   "cell_type": "markdown",
   "metadata": {},
   "source": [
    "## Calculate Portfolio ##"
   ]
  },
  {
   "cell_type": "code",
   "execution_count": 12,
   "metadata": {},
   "outputs": [
    {
     "data": {
      "text/html": [
       "<table border=\"1\" class=\"dataframe\">\n",
       "  <thead>\n",
       "    <tr style=\"text-align: right;\">\n",
       "      <th></th>\n",
       "      <th>ticker</th>\n",
       "      <th>From</th>\n",
       "      <th>To</th>\n",
       "      <th>buypos</th>\n",
       "      <th>sellpos</th>\n",
       "      <th>Cost(Buy)</th>\n",
       "      <th>Cost(sell)</th>\n",
       "      <th>Closing</th>\n",
       "      <th>M2M (urealisert)</th>\n",
       "      <th>MW</th>\n",
       "      <th>MWh</th>\n",
       "    </tr>\n",
       "  </thead>\n",
       "  <tbody>\n",
       "    <tr>\n",
       "      <th>0</th>\n",
       "      <td>ENOFUTBLQ1-24</td>\n",
       "      <td>2023-12-31T23:00:00.000Z</td>\n",
       "      <td>2024-03-30T23:00:00.000Z</td>\n",
       "      <td>0.00</td>\n",
       "      <td>-15.00</td>\n",
       "      <td>0.000000</td>\n",
       "      <td>1138.110000</td>\n",
       "      <td>900.341799</td>\n",
       "      <td>-7.703690e+06</td>\n",
       "      <td>-15.0</td>\n",
       "      <td>-32400.0</td>\n",
       "    </tr>\n",
       "    <tr>\n",
       "      <th>1</th>\n",
       "      <td>ENOFUTBLQ3-23</td>\n",
       "      <td>2023-06-30T22:00:00.000Z</td>\n",
       "      <td>2023-09-29T22:00:00.000Z</td>\n",
       "      <td>12.00</td>\n",
       "      <td>0.00</td>\n",
       "      <td>817.021667</td>\n",
       "      <td>0.000000</td>\n",
       "      <td>0.000000</td>\n",
       "      <td>0.000000e+00</td>\n",
       "      <td>12.0</td>\n",
       "      <td>26208.0</td>\n",
       "    </tr>\n",
       "    <tr>\n",
       "      <th>2</th>\n",
       "      <td>ENOFUTBLYR-23</td>\n",
       "      <td>2022-12-31T23:00:00.000Z</td>\n",
       "      <td>2023-12-30T23:00:00.000Z</td>\n",
       "      <td>41.00</td>\n",
       "      <td>-70.00</td>\n",
       "      <td>362.480000</td>\n",
       "      <td>326.755676</td>\n",
       "      <td>0.000000</td>\n",
       "      <td>0.000000e+00</td>\n",
       "      <td>-29.0</td>\n",
       "      <td>-253344.0</td>\n",
       "    </tr>\n",
       "    <tr>\n",
       "      <th>3</th>\n",
       "      <td>ENOFUTBLYR-24</td>\n",
       "      <td>2023-12-31T23:00:00.000Z</td>\n",
       "      <td>2024-12-30T23:00:00.000Z</td>\n",
       "      <td>25.00</td>\n",
       "      <td>-53.00</td>\n",
       "      <td>818.625185</td>\n",
       "      <td>253.800308</td>\n",
       "      <td>664.888946</td>\n",
       "      <td>1.571920e+08</td>\n",
       "      <td>-28.0</td>\n",
       "      <td>-245280.0</td>\n",
       "    </tr>\n",
       "    <tr>\n",
       "      <th>4</th>\n",
       "      <td>ENOFUTBLYR-25</td>\n",
       "      <td>2024-12-31T23:00:00.000Z</td>\n",
       "      <td>2025-12-30T23:00:00.000Z</td>\n",
       "      <td>44.38</td>\n",
       "      <td>-54.38</td>\n",
       "      <td>518.864467</td>\n",
       "      <td>501.995104</td>\n",
       "      <td>598.223657</td>\n",
       "      <td>7.648254e+07</td>\n",
       "      <td>-10.0</td>\n",
       "      <td>-87360.0</td>\n",
       "    </tr>\n",
       "    <tr>\n",
       "      <th>5</th>\n",
       "      <td>ENOFUTBLYR-26</td>\n",
       "      <td>2025-12-31T23:00:00.000Z</td>\n",
       "      <td>2026-12-30T23:00:00.000Z</td>\n",
       "      <td>1.42</td>\n",
       "      <td>-1.42</td>\n",
       "      <td>355.710000</td>\n",
       "      <td>355.710000</td>\n",
       "      <td>539.256909</td>\n",
       "      <td>4.553843e+06</td>\n",
       "      <td>0.0</td>\n",
       "      <td>0.0</td>\n",
       "    </tr>\n",
       "    <tr>\n",
       "      <th>6</th>\n",
       "      <td>SYOSLFUTBLQ3-23</td>\n",
       "      <td>2023-06-30T22:00:00.000Z</td>\n",
       "      <td>2023-09-29T22:00:00.000Z</td>\n",
       "      <td>0.00</td>\n",
       "      <td>-4.00</td>\n",
       "      <td>0.000000</td>\n",
       "      <td>375.025000</td>\n",
       "      <td>0.000000</td>\n",
       "      <td>0.000000e+00</td>\n",
       "      <td>-4.0</td>\n",
       "      <td>-8736.0</td>\n",
       "    </tr>\n",
       "    <tr>\n",
       "      <th>7</th>\n",
       "      <td>SYOSLFUTBLQ4-23</td>\n",
       "      <td>2023-09-30T22:00:00.000Z</td>\n",
       "      <td>2023-12-30T23:00:00.000Z</td>\n",
       "      <td>0.00</td>\n",
       "      <td>-2.00</td>\n",
       "      <td>0.000000</td>\n",
       "      <td>398.520000</td>\n",
       "      <td>168.094485</td>\n",
       "      <td>-1.006960e+06</td>\n",
       "      <td>-2.0</td>\n",
       "      <td>-4370.0</td>\n",
       "    </tr>\n",
       "  </tbody>\n",
       "</table>"
      ]
     },
     "metadata": {},
     "output_type": "display_data"
    }
   ],
   "source": [
    "from energydeskapi.sdk.common_utils import init_api\n",
    "from energydeskapi.assets.assets_api import AssetsApi\n",
    "from energydeskapi.portfolios.portfolioviews_api import PortfolioViewsApi\n",
    "from energydeskapi.types.company_enum_types import CompanyTypeEnum, CompanyRoleEnum\n",
    "import pandas as pd\n",
    "import matplotlib.mlab as mlab\n",
    "import numpy as np\n",
    "import matplotlib\n",
    "import pendulum\n",
    "import scipy\n",
    "from IPython.display import display_html\n",
    "from itertools import chain,cycle\n",
    "from scipy.stats import norm\n",
    "from matplotlib import pyplot as plt\n",
    "from energydeskapi.risk.risk_api import RiskApi\n",
    "\n",
    "guid, viewdata=PortfolioViewsApi.get_product_view(api_connection, {'portfolio':3, \"view_currency\":\"NOK\",'commodity__delivery_until__gte':str(pendulum.today())})\n",
    "lst=[]\n",
    "\n",
    "if len(viewdata)>0:\n",
    "    for row in json.loads(viewdata):\n",
    "        #print(row)\n",
    "        lst.append({'ticker':row['ticker'],'From':row['delivery_from'],'To':row['delivery_until'],\n",
    "                    'buypos':row['buypos'],\n",
    "                    'sellpos':row['sellpos'],'Cost(Buy)':row['avgcostbuy'],'Cost(sell)':row['avgcostsell'],'Closing':row['close'],'M2M (urealisert)':row['unreal'],\n",
    "                    'MW':row['netpos'],'MWh':row['netvol']})\n",
    "    df=pd.DataFrame(data=lst)\n",
    "    display_html(df.to_html(),raw=True)\n",
    "else:\n",
    "    df=pd.DataFrame()"
   ]
  },
  {
   "cell_type": "code",
   "execution_count": 14,
   "metadata": {},
   "outputs": [
    {
     "name": "stdout",
     "output_type": "stream",
     "text": [
      "            ticker                      From                        To  \\\n",
      "0    ENOFUTBLQ1-24  2023-12-31T23:00:00.000Z  2024-03-30T23:00:00.000Z   \n",
      "1    ENOFUTBLQ3-23  2023-06-30T22:00:00.000Z  2023-09-29T22:00:00.000Z   \n",
      "2    ENOFUTBLYR-23  2022-12-31T23:00:00.000Z  2023-12-30T23:00:00.000Z   \n",
      "3    ENOFUTBLYR-24  2023-12-31T23:00:00.000Z  2024-12-30T23:00:00.000Z   \n",
      "4    ENOFUTBLYR-25  2024-12-31T23:00:00.000Z  2025-12-30T23:00:00.000Z   \n",
      "5    ENOFUTBLYR-26  2025-12-31T23:00:00.000Z  2026-12-30T23:00:00.000Z   \n",
      "6  SYOSLFUTBLQ3-23  2023-06-30T22:00:00.000Z  2023-09-29T22:00:00.000Z   \n",
      "7  SYOSLFUTBLQ4-23  2023-09-30T22:00:00.000Z  2023-12-30T23:00:00.000Z   \n",
      "\n",
      "   buypos  sellpos   Cost(Buy)   Cost(sell)     Closing  M2M (urealisert)  \\\n",
      "0    0.00   -15.00    0.000000  1138.110000  900.341799     -7.703690e+06   \n",
      "1   12.00     0.00  817.021667     0.000000    0.000000      0.000000e+00   \n",
      "2   41.00   -70.00  362.480000   326.755676    0.000000      0.000000e+00   \n",
      "3   25.00   -53.00  818.625185   253.800308  664.888946      1.571920e+08   \n",
      "4   44.38   -54.38  518.864467   501.995104  598.223657      7.648254e+07   \n",
      "5    1.42    -1.42  355.710000   355.710000  539.256909      4.553843e+06   \n",
      "6    0.00    -4.00    0.000000   375.025000    0.000000      0.000000e+00   \n",
      "7    0.00    -2.00    0.000000   398.520000  168.094485     -1.006960e+06   \n",
      "\n",
      "     MW       MWh     Month  \n",
      "0 -15.0  -32400.0  2024 Mar  \n",
      "1  12.0   26208.0  2023 Sep  \n",
      "2 -29.0 -253344.0  2023 Dec  \n",
      "3 -28.0 -245280.0  2024 Dec  \n",
      "4 -10.0  -87360.0  2025 Dec  \n",
      "5   0.0       0.0  2026 Dec  \n",
      "6  -4.0   -8736.0  2023 Sep  \n",
      "7  -2.0   -4370.0  2023 Dec  \n"
     ]
    },
    {
     "data": {
      "image/png": "[encoded data removed]",
      "text/plain": [
       "<Figure size 1500x600 with 1 Axes>"
      ]
     },
     "metadata": {},
     "output_type": "display_data"
    }
   ],
   "source": [
    "from dateutil import parser\n",
    "fig,ax = plt.subplots(figsize=(15,6))\n",
    "if len(df)>0:\n",
    "      df['Month']=df.apply(lambda x: parser.isoparse(x['To']).strftime(\"%Y %b\"), axis=1)\n",
    "      print(df)\n",
    "      df2=df.pivot(index='Month', columns='ticker')['MW']\n",
    "      df2.plot(kind='bar',width=1.0, ax=ax,stacked=True)\n",
    "      plt.show()\n",
    "else:\n",
    "      print(\"Empty dataset\")"
   ]
  }
 ],
 "metadata": {
  "kernelspec": {
   "display_name": "Python 3.9.13 ('pygdal39')",
   "language": "python",
   "name": "python3"
  },
  "language_info": {
   "codemirror_mode": {
    "name": "ipython",
    "version": 3
   },
   "file_extension": ".py",
   "mimetype": "text/x-python",
   "name": "python",
   "nbconvert_exporter": "python",
   "pygments_lexer": "ipython3",
   "version": "3.10.13"
  },
  "orig_nbformat": 4,
  "vscode": {
   "interpreter": {
    "hash": "3155dc5b9bfdd26825f64ac297e77a1f9da587ae8523eb1d1ab468b7e9829205"
   }
  }
 },
 "nbformat": 4,
 "nbformat_minor": 2
}
